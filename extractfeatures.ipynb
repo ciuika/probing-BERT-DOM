{
 "cells": [
  {
   "cell_type": "code",
   "execution_count": null,
   "id": "b9c81033-9210-42e0-8e65-c850857f6900",
   "metadata": {},
   "outputs": [],
   "source": []
  },
  {
   "cell_type": "code",
   "execution_count": null,
   "id": "c4c1599d-bbcb-4996-bdab-26c450f181af",
   "metadata": {},
   "outputs": [],
   "source": [
    "import collections\n",
    "import argparse\n",
    "from tqdm import tqdm\n",
    "import json\n",
    "import torch\n",
    "\n",
    "from transformers import BertTokenizer, BertModel\n",
    "tokenizer = BertTokenizer.from_pretrained('bert-base-multilingual-cased') #/wiki-bert-lt-cased\n",
    "model = BertModel.from_pretrained(\"bert-base-multilingual-cased\") #/wiki-bert-lt-cased\n",
    "text = read_examples(\"ObjCase.txt\")\n",
    "with open(\"ObjCase_multi.json\", \"w\", encoding='utf-8') as writer: #/ObjCase_lt.json\n",
    "    for sentence in text:\n",
    "        encoded_input = tokenizer(sentence, return_tensors='pt', padding = True)\n",
    "        output = model(**encoded_input, output_hidden_states = True)\n",
    "        hidden_states = output[2][1:]\n",
    "        output_json = collections.OrderedDict()\n",
    "        output_json[\"linex_index\"] = text.index(sentence)\n",
    "        all_out_features = []\n",
    "        all_layers = []\n",
    "        for layer_index in range(len(hidden_states)):\n",
    "            layer_output = hidden_states[int(layer_index)].detach().cpu().numpy()\n",
    "            layer_output = layer_output[0, 0, :]\n",
    "            layers = collections.OrderedDict()\n",
    "            layers[\"index\"] = layer_index\n",
    "            layers[\"values\"] = [\n",
    "                round(x.item(), 6) for x in layer_output\n",
    "            ]\n",
    "            all_layers.append(layers)\n",
    "        out_features = collections.OrderedDict()\n",
    "        out_features[\"token\"] = \"[CLS]\"\n",
    "        out_features[\"layers\"] = all_layers\n",
    "        all_out_features.append(out_features)\n",
    "        output_json[\"features\"] = all_out_features\n",
    "        writer.write(json.dumps(output_json) + \"\\n\")"
   ]
  },
  {
   "cell_type": "code",
   "execution_count": null,
   "id": "a75eca89-1b83-47c6-8355-d3e253c78f02",
   "metadata": {},
   "outputs": [],
   "source": [
    "def read_examples(input_file):\n",
    "  \"\"\"Read a list of `InputExample`s from an input file.\"\"\"\n",
    "  examples = []\n",
    "  unique_id = 0\n",
    "  with open(input_file, \"r\", encoding='utf-8') as reader:\n",
    "    while True:\n",
    "      line = reader.readline()\n",
    "      if not line:\n",
    "          break\n",
    "      text = line.strip().split('\\t')[-1]\n",
    "      examples.append(text)\n",
    "      unique_id += 1\n",
    "  return examples"
   ]
  },
  {
   "cell_type": "code",
   "execution_count": 1,
   "id": "2416ed58-0e7f-46c4-b94c-c35f793f5f11",
   "metadata": {},
   "outputs": [],
   "source": []
  },
  {
   "cell_type": "code",
   "execution_count": null,
   "id": "1df98675-a0a0-4f34-a285-8ae06eb12d9d",
   "metadata": {},
   "outputs": [],
   "source": []
  },
  {
   "cell_type": "code",
   "execution_count": null,
   "id": "d70dba94-45cd-442e-8710-17dbfc325d10",
   "metadata": {},
   "outputs": [],
   "source": []
  },
  {
   "cell_type": "code",
   "execution_count": null,
   "id": "144ed4b6-3a01-47ba-9d38-07491a975c25",
   "metadata": {},
   "outputs": [],
   "source": []
  },
  {
   "cell_type": "code",
   "execution_count": null,
   "id": "57c8a067-4002-40ba-a74d-e44a3681beee",
   "metadata": {},
   "outputs": [],
   "source": []
  },
  {
   "cell_type": "code",
   "execution_count": null,
   "id": "644be248-7249-4e74-a5f1-1144f14614df",
   "metadata": {},
   "outputs": [],
   "source": []
  },
  {
   "cell_type": "code",
   "execution_count": null,
   "id": "c3545e95-b6d9-4c28-961f-4acf7739ba19",
   "metadata": {},
   "outputs": [],
   "source": []
  },
  {
   "cell_type": "code",
   "execution_count": null,
   "id": "bbc510cd-c5b9-4aba-8221-015ee48c8dd1",
   "metadata": {},
   "outputs": [],
   "source": []
  },
  {
   "cell_type": "code",
   "execution_count": null,
   "id": "43cef7b3-6f7f-4a85-95ca-bca38f8f4f59",
   "metadata": {},
   "outputs": [],
   "source": []
  },
  {
   "cell_type": "code",
   "execution_count": null,
   "id": "abe8c175-debc-4cd0-8ccd-507b592b2f86",
   "metadata": {},
   "outputs": [],
   "source": []
  },
  {
   "cell_type": "code",
   "execution_count": null,
   "id": "9cc9b25a-8d7e-43be-b580-82996b3df79e",
   "metadata": {},
   "outputs": [],
   "source": []
  },
  {
   "cell_type": "code",
   "execution_count": null,
   "id": "5bcde652-020a-451c-aa57-783d2148d77c",
   "metadata": {},
   "outputs": [],
   "source": []
  },
  {
   "cell_type": "code",
   "execution_count": 2,
   "id": "4a99609e-2763-4d6d-9cc5-5ff6a3853379",
   "metadata": {},
   "outputs": [
    {
     "name": "stderr",
     "output_type": "stream",
     "text": [
      "\n",
      "KeyboardInterrupt\n",
      "\n"
     ]
    }
   ],
   "source": []
  },
  {
   "cell_type": "code",
   "execution_count": null,
   "id": "07a05632-4f2a-4517-a0b6-2c361b700ee2",
   "metadata": {},
   "outputs": [],
   "source": []
  }
 ],
 "metadata": {
  "kernelspec": {
   "display_name": "Python 3 (ipykernel)",
   "language": "python",
   "name": "python3"
  },
  "language_info": {
   "codemirror_mode": {
    "name": "ipython",
    "version": 3
   },
   "file_extension": ".py",
   "mimetype": "text/x-python",
   "name": "python",
   "nbconvert_exporter": "python",
   "pygments_lexer": "ipython3",
   "version": "3.11.7"
  }
 },
 "nbformat": 4,
 "nbformat_minor": 5
}
