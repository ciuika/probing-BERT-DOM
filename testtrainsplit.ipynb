{
 "cells": [
  {
   "cell_type": "code",
   "execution_count": 16,
   "id": "3941de25-ae00-4cf5-8dfa-22af16c4b1ed",
   "metadata": {},
   "outputs": [],
   "source": [
    "# import packages \n",
    "import numpy as np \n",
    "import pandas as pd \n",
    "from sklearn.model_selection import train_test_split \n",
    "\n",
    "# importing data \n",
    "df = pd.read_csv('acc.csv', sep = \";\") \n",
    "\n",
    "# using the train test split function \n",
    "train, both = train_test_split(df, test_size = 0.40, random_state = 0)\n",
    "test, val = train_test_split(both, test_size = 0.50, random_state = 0)\n",
    "#save the data\n",
    "train.to_csv('acc_train.csv',index=False)\n",
    "test.to_csv('acc_test.csv',index=False)\n",
    "val.to_csv('acc_val.csv', index=False)\n"
   ]
  },
  {
   "cell_type": "code",
   "execution_count": 19,
   "id": "04457fb4-506f-4ec2-be93-931811933422",
   "metadata": {},
   "outputs": [],
   "source": [
    "# importing data \n",
    "df = pd.read_csv('gen.csv', sep = \";\") \n",
    "\n",
    "# using the train test split function \n",
    "train, both = train_test_split(df, test_size = 0.40, random_state = 0)\n",
    "test, val = train_test_split(both, test_size = 0.50, random_state = 0)\n",
    "#save the data\n",
    "train.to_csv('gen_train.csv',index=False)\n",
    "test.to_csv('gen_test.csv',index=False)\n",
    "val.to_csv('gen_val.csv', index=False)\n"
   ]
  },
  {
   "cell_type": "code",
   "execution_count": null,
   "id": "c6ec52a1-0f7f-4f08-87f6-45c71c111b02",
   "metadata": {},
   "outputs": [],
   "source": []
  }
 ],
 "metadata": {
  "kernelspec": {
   "display_name": "Python 3 (ipykernel)",
   "language": "python",
   "name": "python3"
  },
  "language_info": {
   "codemirror_mode": {
    "name": "ipython",
    "version": 3
   },
   "file_extension": ".py",
   "mimetype": "text/x-python",
   "name": "python",
   "nbconvert_exporter": "python",
   "pygments_lexer": "ipython3",
   "version": "3.11.7"
  }
 },
 "nbformat": 4,
 "nbformat_minor": 5
}
